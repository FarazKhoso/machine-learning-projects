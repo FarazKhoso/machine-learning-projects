{
 "cells": [
  {
   "cell_type": "markdown",
   "id": "42206c79-282d-4312-9647-1ab584c8ecc3",
   "metadata": {},
   "source": [
    "# Machine Learning\n",
    "### - Supervised Machine Learning  ( data + labels)\n",
    "         - Regression    ( Regression, Lasso, Ridge)\n",
    "                - Simple Linear Regression\n",
    "                - Multiple Linear Regression\n",
    "                - Polynomial Regression"
   ]
  },
  {
   "cell_type": "markdown",
   "id": "31fa903b-044f-4149-9cbf-2e2e30b7b97f",
   "metadata": {},
   "source": [
    "# Regression\n",
    "    - Finding dependent variable values using independent variable/es"
   ]
  },
  {
   "cell_type": "markdown",
   "id": "bd2e4931-dc68-4c1a-8c6b-37f7172811a9",
   "metadata": {},
   "source": [
    "---**Hello everyone!**---\n",
    "\n",
    "Today I am going to build my first machine learning alogrithm which a simple linear regression model....."
   ]
  },
  {
   "cell_type": "markdown",
   "id": "e8d3c9b4-46a5-4ac2-8b45-1237d716ec2a",
   "metadata": {},
   "source": [
    "---**So what is linear regression?**---\n",
    "\n",
    "\n",
    "--Linear regression is a linear approach to modeling the relationship between a scalar response and one or more explanatory variables. The case of one explanatory variable is called simple linear regression. \n",
    "\n",
    "\n",
    "--It is the easiest alogrithm among all machine learning agorithm.\n",
    "\n",
    "\n",
    "--Its quite simple to implement.\n"
   ]
  },
  {
   "cell_type": "markdown",
   "id": "56bfae36-4049-4b92-a361-0090f155bf85",
   "metadata": {},
   "source": [
    "----**About Dataset**----\n",
    "\n",
    "Here I am using a simple dataset from kaggle which is Weights and Heights dataset tried to apply linear regression algorithm.\n",
    "\n",
    "The data contains the variables\n",
    "\n",
    "**---Gender**\n",
    "\n",
    "**---Height (m) **\n",
    "\n",
    "**---Weight (kg)**"
   ]
  },
  {
   "cell_type": "markdown",
   "id": "ebbea281-5b84-4b84-b937-bd084b62ddcc",
   "metadata": {},
   "source": [
    "---**Goal**---\n",
    "\n",
    "- Predict the height or weight of a person.\n"
   ]
  },
  {
   "cell_type": "markdown",
   "id": "37d33136-b34c-48e9-81e9-a7dc725c57b1",
   "metadata": {},
   "source": [
    "**Step 1--Data Preprocessing**"
   ]
  },
  {
   "cell_type": "markdown",
   "id": "0894355c-b394-4866-bbd2-73fe459a4fa2",
   "metadata": {},
   "source": [
    "# Simple Linear Regression  ( Involves Only 1 input variable)"
   ]
  },
  {
   "cell_type": "code",
   "execution_count": 11,
   "id": "ce907d1c-704e-4853-87da-0fcc47eaf21f",
   "metadata": {},
   "outputs": [],
   "source": [
    "#Importing libraries.\n",
    "import numpy as np\n",
    "import pandas as pd\n",
    "import matplotlib.pyplot as plt\n",
    "import os"
   ]
  },
  {
   "cell_type": "code",
   "execution_count": 20,
   "id": "e42ecf77-b2c7-4e8f-a6d6-0772801a58dc",
   "metadata": {},
   "outputs": [],
   "source": [
    "#Read the datasets\n",
    "dataset=pd.read_csv(\"weight-height.csv\")\n",
    "# dataset.drop('Gender', axis=1,inplace=True)"
   ]
  },
  {
   "cell_type": "code",
   "execution_count": 32,
   "id": "a4e50e58-6556-46fc-a017-c5549549e5f1",
   "metadata": {},
   "outputs": [
    {
     "data": {
      "text/html": [
       "<div>\n",
       "<style scoped>\n",
       "    .dataframe tbody tr th:only-of-type {\n",
       "        vertical-align: middle;\n",
       "    }\n",
       "\n",
       "    .dataframe tbody tr th {\n",
       "        vertical-align: top;\n",
       "    }\n",
       "\n",
       "    .dataframe thead th {\n",
       "        text-align: right;\n",
       "    }\n",
       "</style>\n",
       "<table border=\"1\" class=\"dataframe\">\n",
       "  <thead>\n",
       "    <tr style=\"text-align: right;\">\n",
       "      <th></th>\n",
       "      <th>Height</th>\n",
       "      <th>Weight</th>\n",
       "    </tr>\n",
       "  </thead>\n",
       "  <tbody>\n",
       "    <tr>\n",
       "      <th>0</th>\n",
       "      <td>73.847017</td>\n",
       "      <td>241.893563</td>\n",
       "    </tr>\n",
       "    <tr>\n",
       "      <th>1</th>\n",
       "      <td>68.781904</td>\n",
       "      <td>162.310473</td>\n",
       "    </tr>\n",
       "    <tr>\n",
       "      <th>2</th>\n",
       "      <td>74.110105</td>\n",
       "      <td>212.740856</td>\n",
       "    </tr>\n",
       "    <tr>\n",
       "      <th>3</th>\n",
       "      <td>71.730978</td>\n",
       "      <td>220.042470</td>\n",
       "    </tr>\n",
       "    <tr>\n",
       "      <th>4</th>\n",
       "      <td>69.881796</td>\n",
       "      <td>206.349801</td>\n",
       "    </tr>\n",
       "    <tr>\n",
       "      <th>5</th>\n",
       "      <td>67.253016</td>\n",
       "      <td>152.212156</td>\n",
       "    </tr>\n",
       "    <tr>\n",
       "      <th>6</th>\n",
       "      <td>68.785081</td>\n",
       "      <td>183.927889</td>\n",
       "    </tr>\n",
       "    <tr>\n",
       "      <th>7</th>\n",
       "      <td>68.348516</td>\n",
       "      <td>167.971111</td>\n",
       "    </tr>\n",
       "    <tr>\n",
       "      <th>8</th>\n",
       "      <td>67.018950</td>\n",
       "      <td>175.929440</td>\n",
       "    </tr>\n",
       "    <tr>\n",
       "      <th>9</th>\n",
       "      <td>63.456494</td>\n",
       "      <td>156.399676</td>\n",
       "    </tr>\n",
       "  </tbody>\n",
       "</table>\n",
       "</div>"
      ],
      "text/plain": [
       "      Height      Weight\n",
       "0  73.847017  241.893563\n",
       "1  68.781904  162.310473\n",
       "2  74.110105  212.740856\n",
       "3  71.730978  220.042470\n",
       "4  69.881796  206.349801\n",
       "5  67.253016  152.212156\n",
       "6  68.785081  183.927889\n",
       "7  68.348516  167.971111\n",
       "8  67.018950  175.929440\n",
       "9  63.456494  156.399676"
      ]
     },
     "execution_count": 32,
     "metadata": {},
     "output_type": "execute_result"
    }
   ],
   "source": [
    "#Check the dataset\n",
    "dataset.head(10)"
   ]
  },
  {
   "cell_type": "code",
   "execution_count": 26,
   "id": "fe274c88-8525-4dcd-89d1-99992b77e031",
   "metadata": {},
   "outputs": [],
   "source": [
    "dataset.drop('Gender', axis=1,inplace=True)"
   ]
  },
  {
   "cell_type": "code",
   "execution_count": 27,
   "id": "16eb672f-0b49-4274-8ba0-9877df39bb02",
   "metadata": {},
   "outputs": [
    {
     "data": {
      "text/plain": [
       "Height    0\n",
       "Weight    0\n",
       "dtype: int64"
      ]
     },
     "execution_count": 27,
     "metadata": {},
     "output_type": "execute_result"
    }
   ],
   "source": [
    "#check if null values is present in dataset or not.....\n",
    "dataset.isnull().sum()"
   ]
  },
  {
   "cell_type": "code",
   "execution_count": 28,
   "id": "fc29bf8e-07d2-440a-81a3-498204d746e2",
   "metadata": {},
   "outputs": [
    {
     "data": {
      "text/plain": [
       "(10000, 2)"
      ]
     },
     "execution_count": 28,
     "metadata": {},
     "output_type": "execute_result"
    }
   ],
   "source": [
    "#Checking the dimensions of the dataset\n",
    "dataset.shape"
   ]
  },
  {
   "cell_type": "markdown",
   "id": "a2456f53-1477-42f1-a316-cc5c5945d8ad",
   "metadata": {},
   "source": [
    "**Lets check the correlation between each variables**"
   ]
  },
  {
   "cell_type": "code",
   "execution_count": 33,
   "id": "ca70f0c5-2345-4259-bacb-7cb8baf36408",
   "metadata": {},
   "outputs": [
    {
     "data": {
      "image/png": "[encoded data removed]",
      "text/plain": [
       "<Figure size 640x480 with 1 Axes>"
      ]
     },
     "metadata": {},
     "output_type": "display_data"
    }
   ],
   "source": [
    "#Plot Gender vs Weight............\n",
    "x1 = dataset.iloc[:, 0].values\n",
    "y1 = dataset.iloc[:, 1].values\n",
    "plt.scatter(x1,y1,label='Gender',color='Green',s=50)\n",
    "plt.xlabel('Gender')\n",
    "plt.ylabel('Weight')\n",
    "plt.title('Gender vs Weight')\n",
    "plt.legend()\n",
    "plt.show()"
   ]
  },
  {
   "cell_type": "code",
   "execution_count": null,
   "id": "4c41b241-5530-4bc7-ab9d-45981627abf5",
   "metadata": {},
   "outputs": [],
   "source": []
  }
 ],
 "metadata": {
  "kernelspec": {
   "display_name": "Python 3 (ipykernel)",
   "language": "python",
   "name": "python3"
  },
  "language_info": {
   "codemirror_mode": {
    "name": "ipython",
    "version": 3
   },
   "file_extension": ".py",
   "mimetype": "text/x-python",
   "name": "python",
   "nbconvert_exporter": "python",
   "pygments_lexer": "ipython3",
   "version": "3.12.5"
  }
 },
 "nbformat": 4,
 "nbformat_minor": 5
}
